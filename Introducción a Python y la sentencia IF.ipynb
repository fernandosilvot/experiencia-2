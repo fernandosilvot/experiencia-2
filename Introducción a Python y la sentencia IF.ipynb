{
 "cells": [
  {
   "cell_type": "code",
   "execution_count": null,
   "metadata": {},
   "outputs": [
    {
     "ename": "",
     "evalue": "",
     "output_type": "error",
     "traceback": [
      "\u001b[1;31mLa ejecución de celdas con 'c:\\Users\\ferna\\AppData\\Local\\Programs\\Python\\Python310\\python.exe' requiere el paquete ipykernel.\n",
      "\u001b[1;31mRun the following command to install 'ipykernel' into the Python environment. \n",
      "\u001b[1;31mCommand: 'c:/Users/ferna/AppData/Local/Programs/Python/Python310/python.exe -m pip install ipykernel -U --user --force-reinstall'"
     ]
    }
   ],
   "source": [
    "\"\"\"\n",
    "Ejercicio 1\n",
    "Mostrar por pantalla los siguientes mensajes: \n",
    "“Bienvenido al mundo de la programación”. \n",
    "“Para comenzar, ingresa tu nombre”.\n",
    "\"\"\"\n",
    "print(\"Bienvenido al mundo de la programación\")\n",
    "input(\"Para comenzar, ingresa tu nombre\")"
   ]
  },
  {
   "cell_type": "code",
   "execution_count": 2,
   "metadata": {},
   "outputs": [
    {
     "name": "stdout",
     "output_type": "stream",
     "text": [
      "Bienvenido Fer\n"
     ]
    }
   ],
   "source": [
    "\"\"\"\n",
    "Ejercicio 2\n",
    "Almacenar el nombre en una variable llamada “nom”, luego mostrar el siguiente mensaje usando print (f””): “Bienvenido {nom}” \n",
    "Debe imprimir el nombre ingresado por pantalla. \n",
    "\"\"\"\n",
    "nom = input(\"Ingrese su nombre: \")\n",
    "print(f\"Bienvenido {nom}\")"
   ]
  },
  {
   "cell_type": "code",
   "execution_count": 1,
   "metadata": {},
   "outputs": [
    {
     "name": "stdout",
     "output_type": "stream",
     "text": [
      "1.25\n"
     ]
    }
   ],
   "source": [
    "\"\"\"\n",
    "Ejercicio 3\n",
    "Utilizando un ingreso de variables de tipo numérica con Int (input()), se pide el valor de X para resolver la siguiente ecuación: \n",
    "Muestre el resultado con un mensaje por pantalla.\n",
    "\"\"\"\n",
    "x = int(input(\"Ingrese el valor de la x\"))\n",
    "print(((x**2)+(x*3)+1)/(4))"
   ]
  },
  {
   "cell_type": "code",
   "execution_count": 4,
   "metadata": {},
   "outputs": [
    {
     "name": "stdout",
     "output_type": "stream",
     "text": [
      "Hola\n",
      "Por favor ingrese los siguientes datos:\n",
      "NOMBRE: Fernando Silva\n",
      "RUT: 21.322.200-7\n",
      " CORREO: fernandosilvot@gmail.com\n",
      "TELEFONO: 959056682\n"
     ]
    }
   ],
   "source": [
    "import os\n",
    "\"\"\"\n",
    "Ejercicio 4\n",
    "Consultar datos de personas y mostrarlos de la siguiente forma:\n",
    "NOMBRE: JUAN LOPEZ \n",
    "RUT: 11.111.111-1 \n",
    "CORREO: JUAN.LOPEZ@GMAIL.COM \n",
    "TELEFONO: 99999999\n",
    "\"\"\"\n",
    "print(\"Hola\\nPor favor ingrese los siguientes datos:\")\n",
    "nom=str(input(\"NOMBRE: \"))\n",
    "rut=str(input(\"RUT: \"))\n",
    "correo=str(input(\"CORREO: \"))\n",
    "telefono=int(input(\"TELEFONO: \"))\n",
    "\n",
    "print(f\"NOMBRE: {nom.title()}\\nRUT: {rut}\\nCORREO: {correo}\\nTELEFONO: {telefono}\")"
   ]
  },
  {
   "attachments": {},
   "cell_type": "markdown",
   "metadata": {},
   "source": [
    "Ahora con if"
   ]
  },
  {
   "cell_type": "code",
   "execution_count": 2,
   "metadata": {},
   "outputs": [
    {
     "name": "stdout",
     "output_type": "stream",
     "text": [
      "no es mayor de edad\n"
     ]
    }
   ],
   "source": [
    "\"\"\"\n",
    "Ejercicio 1:\n",
    "Se pide que construya un programa en Python que consulte \n",
    "la edad de una persona, y de acuerdo a lo ingresado indique si la persona tiene mayoría de edad o no.\n",
    "\"\"\"\n",
    "edad = int(input(\"Ingrese su edad: \"))\n",
    "if edad < 18: \n",
    "    print(\"no eres mayor de edad\")\n",
    "else:\n",
    "    print(\"eres mayor de edad\")\n"
   ]
  },
  {
   "cell_type": "code",
   "execution_count": 6,
   "metadata": {},
   "outputs": [
    {
     "name": "stdout",
     "output_type": "stream",
     "text": [
      "Ha entrado correctamente\n"
     ]
    }
   ],
   "source": [
    "\"\"\"\n",
    "Ejercicio 2:\n",
    "Debe crear un sistema que permita la validación de usuario y contraseña de un empleado en la Empresa XY, los únicos dos usuarios conectados son:\n",
    "a. User_1: pedro       b. User_2: angel\n",
    "    Pass_1:1234      Pass_2: a4s1\n",
    "\"\"\"\n",
    "user = str(input(\"Ingrese Usuario: \"))\n",
    "password = str(input(\"Ingrese Contraseña: \"))\n",
    "\n",
    "if user == \"pedro\":\n",
    "    if password == \"1234\":\n",
    "        print(\"Ha entrado correctamente\")\n",
    "    else: \n",
    "        print(\"Contraseña incorrecta\")\n",
    "elif user == \"angel\":\n",
    "    if password == \"a4s1\":\n",
    "        print(\"Ha entrado correctamente\")\n",
    "    else: \n",
    "        print(\"Contraseña incorrecta\")\n",
    "else:\n",
    "    print(\"Usuario no existente\")"
   ]
  },
  {
   "cell_type": "code",
   "execution_count": 11,
   "metadata": {},
   "outputs": [
    {
     "name": "stdout",
     "output_type": "stream",
     "text": [
      "tiene un promedio de 2.0 pero si lo redondeamos obtenemos 2\n",
      "Entonces:\n",
      "reprobo\n"
     ]
    }
   ],
   "source": [
    "\"\"\"\n",
    "Ejercicio 3:​\n",
    "\n",
    "Ingrese 3 notas por teclado (valide que sean entre 1 y 7) y calcule su promedio. Si la nota resultante es mayor o igual a 4.0 entonces indique \n",
    "que está aprobado, en caso contrario notifique que está reprobado.\n",
    "\"\"\"\n",
    "promedio = 0\n",
    "i = 0\n",
    "while i != 3:\n",
    "    nota= int(input(\"\"))\n",
    "    promedio+=nota \n",
    "    i+=1\n",
    "print(f\"tiene un promedio de {promedio/3} pero si lo redondeamos obtenemos {round(promedio/3)}\\nEntonces:\")\n",
    "if promedio/3 > 4:\n",
    "    print(\"aprobo\")\n",
    "else: \n",
    "    print(\"reprobo\")\n"
   ]
  },
  {
   "cell_type": "code",
   "execution_count": 1,
   "metadata": {},
   "outputs": [
    {
     "name": "stdout",
     "output_type": "stream",
     "text": [
      "Bienvenido\n",
      "que moneda quiere convertir a pesos Chilenos\n",
      "1)Dólar australiano a pesos chilenos\n",
      "2)Peso Argentino a peso chileno\n",
      "3)Yen a pesos chilenos\n",
      "convirtiendo 100 a Dólar australiano se obtiene: 53473.0\n"
     ]
    }
   ],
   "source": [
    "\"\"\"\n",
    "Ejercicio 4:\n",
    "Genere un convertidor de: \n",
    "Dólar australiano a pesos chilenos \n",
    "Peso Argentino a peso chileno \n",
    "Yen a pesos chilenos \n",
    "Considere que los valores son variables.\n",
    "\"\"\"\n",
    "print(\"Bienvenido\\nque moneda quiere convertir a pesos Chilenos\\n1)Dólar australiano a pesos chilenos\\n2)Peso Argentino a peso chileno\\n3)Yen a pesos chilenos\")\n",
    "x = int(input(\"Ingrese un digito de la siguientes opciones: \"))\n",
    "if x == 1:\n",
    "    nom = \"Dólar australiano\"\n",
    "    moneda = int(input(\"ingrese cuanto dinero quiere convertir: \"))\n",
    "    resultado = moneda * 534.73\n",
    "    print(f\"convirtiendo {moneda} a {nom} se obtiene: {resultado}\")\n",
    "elif x == 2:\n",
    "    nom = \"Peso Argentino\"\n",
    "    moneda = int(input(\"ingrese cuanto dinero quiere convertir: \"))\n",
    "    resultado = moneda * 3.35\n",
    "    print(f\"convirtiendo {moneda} a {nom} se obtiene: {resultado}\")\n",
    "elif x == 3:\n",
    "    nom = \"Yen a pesos chilenos\"\n",
    "    moneda = int(input(\"ingrese cuanto dinero quiere convertir: \"))\n",
    "    resultado = moneda * 5.77\n",
    "    print(f\"convirtiendo {moneda} a {nom} se obtiene: {resultado}\")\n"
   ]
  }
 ],
 "metadata": {
  "kernelspec": {
   "display_name": "Python 3",
   "language": "python",
   "name": "python3"
  },
  "language_info": {
   "codemirror_mode": {
    "name": "ipython",
    "version": 3
   },
   "file_extension": ".py",
   "mimetype": "text/x-python",
   "name": "python",
   "nbconvert_exporter": "python",
   "pygments_lexer": "ipython3",
   "version": "3.10.6"
  },
  "orig_nbformat": 4
 },
 "nbformat": 4,
 "nbformat_minor": 2
}
